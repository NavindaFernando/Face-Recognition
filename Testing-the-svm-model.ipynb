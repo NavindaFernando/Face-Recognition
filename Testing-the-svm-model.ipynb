{
 "cells": [
  {
   "cell_type": "code",
   "execution_count": 24,
   "id": "21cfb62d",
   "metadata": {},
   "outputs": [],
   "source": [
    "# load model\n",
    "import joblib\n",
    "\n",
    "model = joblib.load ('SVM-Face Recognition.sav')"
   ]
  },
  {
   "cell_type": "code",
   "execution_count": 25,
   "id": "64de7265",
   "metadata": {},
   "outputs": [],
   "source": [
    "# everything we did while training should also be done in testing\n",
    "ategory_dict={0:'Barack Obama', 1:'Donald Trump', 2:'George W Bush'}"
   ]
  },
  {
   "cell_type": "code",
   "execution_count": 27,
   "id": "d200c312",
   "metadata": {},
   "outputs": [
    {
     "name": "stdout",
     "output_type": "stream",
     "text": [
      "['barack-obama-12782369-1-402.jpg', 'barack-obama.jpeg', 'george-w-bush-file-gty-jef-200403_hpMain_1x1_992.jpg', 'https___d1e00ek4ebabms.cloudfront.net_production_b8c5ac6e-d1ec-467a-b185-a5c7b2fc1c9b.jpg', 'president-george-w-bush-listens-to-a-question-during-a-news-news-photo-1591807580.jpg', 'trump.jpg']\n"
     ]
    }
   ],
   "source": [
    "# get test images\n",
    "test_data_path='test_data'\n",
    "\n",
    "import os\n",
    "import cv2\n",
    "\n",
    "# import cascade classifier\n",
    "face_classifier = cv2.CascadeClassifier('cascades/haarcascade_frontalface_default.xml')\n",
    "\n",
    "# get test image path\n",
    "test_img_names = os.listdir(test_data_path)\n",
    "print(test_img_names)\n",
    "\n",
    "# go to all images for one by one\n",
    "for test_img in test_img_names:\n",
    "    \n",
    "    # create new test image path\n",
    "    img_path = os.path.join(test_data_path,test_img)\n",
    "    test_img = cv2.imread(img_path) # load images in img_path\n",
    "        \n",
    "    gray = cv2.cvtColor(test_img,cv2.COLOR_BGR2GRAY) # convert to gray image (BGR to GRAY)\n",
    "        \n",
    "    faces = face_classifier.detectMultiScale(gray) # get rectangle values (faces->2d array)\n",
    "        \n",
    "    # This loop runs according to the number of faces in the image\n",
    "    for(x,y,w,h) in faces:            \n",
    "        cv2.rectangle(test_img,(x,y),(x+w,y+h),(0,255,0),2) # drow a rectangle box\n",
    " \n",
    "        cropped_face=gray[y:y+h,x:x+w] # crop faces \n",
    "        cropped_face=cv2.resize(cropped_face,(50,50)) # convert 50x50 image\n",
    "        cropped_original=cropped_face\n",
    "        cropped_face=cropped_face.reshape(1,50*50) # flatten (2500)\n",
    "                                    \n",
    "        result = model.predict(cropped_face) # putting it into the model and get predictions\n",
    "        name = category_dict[result[0]] # the prediction name is taken from the category_dict\n",
    "            \n",
    "        cv2.putText(test_img,name,(x,y-10),cv2.FONT_HERSHEY_SIMPLEX,1.5,(0,255,0),2) # showing the relevant name of the image\n",
    "        cv2.imshow('GRAY',cropped_original) # show gray image\n",
    "        cv2.imshow('LIVE',test_img) # show color image\n",
    "            \n",
    "        k=cv2.waitKey(1000) # time to wait for images (holding)\n",
    "        if(k==27):\n",
    "            break\n",
    "cv2.destroyAllWindows()    "
   ]
  },
  {
   "cell_type": "code",
   "execution_count": null,
   "id": "43b8825b",
   "metadata": {},
   "outputs": [],
   "source": []
  },
  {
   "cell_type": "code",
   "execution_count": null,
   "id": "a87a44cc",
   "metadata": {},
   "outputs": [],
   "source": []
  }
 ],
 "metadata": {
  "kernelspec": {
   "display_name": "Python 3 (ipykernel)",
   "language": "python",
   "name": "python3"
  },
  "language_info": {
   "codemirror_mode": {
    "name": "ipython",
    "version": 3
   },
   "file_extension": ".py",
   "mimetype": "text/x-python",
   "name": "python",
   "nbconvert_exporter": "python",
   "pygments_lexer": "ipython3",
   "version": "3.10.9"
  }
 },
 "nbformat": 4,
 "nbformat_minor": 5
}
